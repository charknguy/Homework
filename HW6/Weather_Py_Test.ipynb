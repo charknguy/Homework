{
 "cells": [
  {
   "cell_type": "code",
   "execution_count": 1,
   "metadata": {
    "collapsed": true
   },
   "outputs": [],
   "source": [
    "#Observation trends\n",
    "#1 The data shows that the closer to 0 latitude, the hotter it is.\n",
    "#2 It is humid in most places and there is no good correlation between being closer to the equator or further away. Also, cloudiness doesn’t not have a clear correlation.\n",
    "#3 In my wind speed data is sporadic and winds seem to vary randomly."
   ]
  },
  {
   "cell_type": "code",
   "execution_count": 2,
   "metadata": {
    "collapsed": true
   },
   "outputs": [],
   "source": [
    "import csv\n",
    "import matplotlib.pyplot as plt\n",
    "import requests as req\n",
    "import pandas as pd\n",
    "import numpy as np"
   ]
  },
  {
   "cell_type": "code",
   "execution_count": 3,
   "metadata": {
    "collapsed": true
   },
   "outputs": [],
   "source": [
    "api_key = \"8b517dd12acab8faa94bcceee89c48ac\"\n",
    "url = \"http://api.openweathermap.org/data/2.5/weather?\"\n",
    "units = \"imperial\""
   ]
  },
  {
   "cell_type": "code",
   "execution_count": 4,
   "metadata": {
    "scrolled": true
   },
   "outputs": [
    {
     "name": "stdout",
     "output_type": "stream",
     "text": [
      "http://api.openweathermap.org/data/2.5/weather?appid=8b517dd12acab8faa94bcceee89c48ac&units=imperial&q=\n"
     ]
    }
   ],
   "source": [
    "query_url = url + \"appid=\" + api_key + \"&units=\" + units + \"&q=\"\n",
    "print(query_url)"
   ]
  },
  {
   "cell_type": "code",
   "execution_count": 5,
   "metadata": {
    "collapsed": true
   },
   "outputs": [],
   "source": [
    "cities_df = pd.read_csv(\"https://raw.githubusercontent.com/wingchen/citipy/master/citipy/worldcities.csv\")"
   ]
  },
  {
   "cell_type": "code",
   "execution_count": 6,
   "metadata": {
    "scrolled": true
   },
   "outputs": [
    {
     "data": {
      "text/html": [
       "<div>\n",
       "<style>\n",
       "    .dataframe thead tr:only-child th {\n",
       "        text-align: right;\n",
       "    }\n",
       "\n",
       "    .dataframe thead th {\n",
       "        text-align: left;\n",
       "    }\n",
       "\n",
       "    .dataframe tbody tr th {\n",
       "        vertical-align: top;\n",
       "    }\n",
       "</style>\n",
       "<table border=\"1\" class=\"dataframe\">\n",
       "  <thead>\n",
       "    <tr style=\"text-align: right;\">\n",
       "      <th></th>\n",
       "      <th>Country</th>\n",
       "      <th>City</th>\n",
       "      <th>Latitude</th>\n",
       "      <th>Longitude</th>\n",
       "    </tr>\n",
       "  </thead>\n",
       "  <tbody>\n",
       "    <tr>\n",
       "      <th>26974</th>\n",
       "      <td>ph</td>\n",
       "      <td>alayao</td>\n",
       "      <td>14.281800</td>\n",
       "      <td>122.552400</td>\n",
       "    </tr>\n",
       "    <tr>\n",
       "      <th>11418</th>\n",
       "      <td>fr</td>\n",
       "      <td>bihorel</td>\n",
       "      <td>49.454685</td>\n",
       "      <td>1.122298</td>\n",
       "    </tr>\n",
       "    <tr>\n",
       "      <th>45525</th>\n",
       "      <td>us</td>\n",
       "      <td>cleveland</td>\n",
       "      <td>35.159444</td>\n",
       "      <td>-84.876667</td>\n",
       "    </tr>\n",
       "    <tr>\n",
       "      <th>13187</th>\n",
       "      <td>gh</td>\n",
       "      <td>kpandae</td>\n",
       "      <td>8.466667</td>\n",
       "      <td>-0.016667</td>\n",
       "    </tr>\n",
       "    <tr>\n",
       "      <th>46495</th>\n",
       "      <td>ws</td>\n",
       "      <td>saleilua</td>\n",
       "      <td>-14.016667</td>\n",
       "      <td>-171.700000</td>\n",
       "    </tr>\n",
       "  </tbody>\n",
       "</table>\n",
       "</div>"
      ],
      "text/plain": [
       "      Country       City   Latitude   Longitude\n",
       "26974      ph     alayao  14.281800  122.552400\n",
       "11418      fr    bihorel  49.454685    1.122298\n",
       "45525      us  cleveland  35.159444  -84.876667\n",
       "13187      gh    kpandae   8.466667   -0.016667\n",
       "46495      ws   saleilua -14.016667 -171.700000"
      ]
     },
     "execution_count": 6,
     "metadata": {},
     "output_type": "execute_result"
    }
   ],
   "source": [
    "selected_cities = cities_df.sample(n=500)\n",
    "selected_cities.head()"
   ]
  },
  {
   "cell_type": "code",
   "execution_count": 7,
   "metadata": {},
   "outputs": [
    {
     "data": {
      "text/html": [
       "<div>\n",
       "<style>\n",
       "    .dataframe thead tr:only-child th {\n",
       "        text-align: right;\n",
       "    }\n",
       "\n",
       "    .dataframe thead th {\n",
       "        text-align: left;\n",
       "    }\n",
       "\n",
       "    .dataframe tbody tr th {\n",
       "        vertical-align: top;\n",
       "    }\n",
       "</style>\n",
       "<table border=\"1\" class=\"dataframe\">\n",
       "  <thead>\n",
       "    <tr style=\"text-align: right;\">\n",
       "      <th></th>\n",
       "      <th>Country</th>\n",
       "      <th>City</th>\n",
       "      <th>Latitude</th>\n",
       "      <th>Longitude</th>\n",
       "      <th>Temp</th>\n",
       "      <th>Humidity</th>\n",
       "      <th>Cloudiness</th>\n",
       "      <th>Wind Speed</th>\n",
       "    </tr>\n",
       "  </thead>\n",
       "  <tbody>\n",
       "    <tr>\n",
       "      <th>26974</th>\n",
       "      <td>ph</td>\n",
       "      <td>alayao</td>\n",
       "      <td>14.281800</td>\n",
       "      <td>122.552400</td>\n",
       "      <td></td>\n",
       "      <td></td>\n",
       "      <td></td>\n",
       "      <td></td>\n",
       "    </tr>\n",
       "    <tr>\n",
       "      <th>11418</th>\n",
       "      <td>fr</td>\n",
       "      <td>bihorel</td>\n",
       "      <td>49.454685</td>\n",
       "      <td>1.122298</td>\n",
       "      <td></td>\n",
       "      <td></td>\n",
       "      <td></td>\n",
       "      <td></td>\n",
       "    </tr>\n",
       "    <tr>\n",
       "      <th>45525</th>\n",
       "      <td>us</td>\n",
       "      <td>cleveland</td>\n",
       "      <td>35.159444</td>\n",
       "      <td>-84.876667</td>\n",
       "      <td></td>\n",
       "      <td></td>\n",
       "      <td></td>\n",
       "      <td></td>\n",
       "    </tr>\n",
       "    <tr>\n",
       "      <th>13187</th>\n",
       "      <td>gh</td>\n",
       "      <td>kpandae</td>\n",
       "      <td>8.466667</td>\n",
       "      <td>-0.016667</td>\n",
       "      <td></td>\n",
       "      <td></td>\n",
       "      <td></td>\n",
       "      <td></td>\n",
       "    </tr>\n",
       "    <tr>\n",
       "      <th>46495</th>\n",
       "      <td>ws</td>\n",
       "      <td>saleilua</td>\n",
       "      <td>-14.016667</td>\n",
       "      <td>-171.700000</td>\n",
       "      <td></td>\n",
       "      <td></td>\n",
       "      <td></td>\n",
       "      <td></td>\n",
       "    </tr>\n",
       "  </tbody>\n",
       "</table>\n",
       "</div>"
      ],
      "text/plain": [
       "      Country       City   Latitude   Longitude Temp Humidity Cloudiness  \\\n",
       "26974      ph     alayao  14.281800  122.552400                            \n",
       "11418      fr    bihorel  49.454685    1.122298                            \n",
       "45525      us  cleveland  35.159444  -84.876667                            \n",
       "13187      gh    kpandae   8.466667   -0.016667                            \n",
       "46495      ws   saleilua -14.016667 -171.700000                            \n",
       "\n",
       "      Wind Speed  \n",
       "26974             \n",
       "11418             \n",
       "45525             \n",
       "13187             \n",
       "46495             "
      ]
     },
     "execution_count": 7,
     "metadata": {},
     "output_type": "execute_result"
    }
   ],
   "source": [
    "selected_cities[\"Temp\"] = \"\"\n",
    "selected_cities[\"Humidity\"] = \"\"\n",
    "selected_cities[\"Cloudiness\"] = \"\"\n",
    "selected_cities[\"Wind Speed\"] = \"\"\n",
    "selected_cities.head()"
   ]
  },
  {
   "cell_type": "code",
   "execution_count": 8,
   "metadata": {
    "collapsed": true
   },
   "outputs": [],
   "source": [
    "weather_data = []\n",
    "cities = selected_cities[\"City\"]"
   ]
  },
  {
   "cell_type": "code",
   "execution_count": 9,
   "metadata": {
    "scrolled": false
   },
   "outputs": [
    {
     "name": "stdout",
     "output_type": "stream",
     "text": [
      "--------saleilua\n",
      "----------------------mulatupo\n",
      "------------------rogun\n",
      "--------kastron\n",
      "--------------kholmskaya\n",
      "----------mau aima\n",
      "----------ushtobe\n",
      "----------------------waterfoot\n",
      "----uwayl\n",
      "--mangile\n",
      "------solenzo\n",
      "----budhgaon\n",
      "------sioni\n",
      "----------------------------------------signagi\n",
      "----------------------------------------------------------frankfurt\n",
      "------------------------------------------echt\n",
      "------------------guaymitas\n",
      "------------------------monospita\n",
      "------------------------------------------------sedelnikovo\n",
      "alzenau\n",
      "----------------------------eucaliptus\n",
      "--------new guinlo\n",
      "--------san martin de hidalgo\n",
      "----rohatyn\n",
      "--------------aakirkeby\n",
      "----------------------------------ayia varvara\n",
      "--maguilling\n",
      "----------------------------------------------kroderen\n",
      "--------------------------------------------------------------agrafa\n",
      "--punakha\n",
      "----------------pulong sampalok\n",
      "--------------------------------------------------------------------kerteh\n",
      "------------------------------------------------------------------------------------------------arakhnaion\n",
      "------------------------------------------------kurya\n",
      "--------------------------tarudant\n",
      "------hanau\n",
      "------------------------------jamame\n",
      "------------------------yeletskiy\n",
      "ipanema\n",
      "----------------------sandayong\n",
      "----------uzunkopru\n"
     ]
    },
    {
     "data": {
      "text/html": [
       "<div>\n",
       "<style>\n",
       "    .dataframe thead tr:only-child th {\n",
       "        text-align: right;\n",
       "    }\n",
       "\n",
       "    .dataframe thead th {\n",
       "        text-align: left;\n",
       "    }\n",
       "\n",
       "    .dataframe tbody tr th {\n",
       "        vertical-align: top;\n",
       "    }\n",
       "</style>\n",
       "<table border=\"1\" class=\"dataframe\">\n",
       "  <thead>\n",
       "    <tr style=\"text-align: right;\">\n",
       "      <th></th>\n",
       "      <th>Country</th>\n",
       "      <th>City</th>\n",
       "      <th>Latitude</th>\n",
       "      <th>Longitude</th>\n",
       "      <th>Temp</th>\n",
       "      <th>Humidity</th>\n",
       "      <th>Cloudiness</th>\n",
       "      <th>Wind Speed</th>\n",
       "    </tr>\n",
       "  </thead>\n",
       "  <tbody>\n",
       "    <tr>\n",
       "      <th>26974</th>\n",
       "      <td>ph</td>\n",
       "      <td>alayao</td>\n",
       "      <td>14.281800</td>\n",
       "      <td>122.552400</td>\n",
       "      <td>81.98</td>\n",
       "      <td>98</td>\n",
       "      <td>56</td>\n",
       "      <td>2.15</td>\n",
       "    </tr>\n",
       "    <tr>\n",
       "      <th>11418</th>\n",
       "      <td>fr</td>\n",
       "      <td>bihorel</td>\n",
       "      <td>49.454685</td>\n",
       "      <td>1.122298</td>\n",
       "      <td>40.17</td>\n",
       "      <td>86</td>\n",
       "      <td>75</td>\n",
       "      <td>9.17</td>\n",
       "    </tr>\n",
       "    <tr>\n",
       "      <th>45525</th>\n",
       "      <td>us</td>\n",
       "      <td>cleveland</td>\n",
       "      <td>35.159444</td>\n",
       "      <td>-84.876667</td>\n",
       "      <td>26.15</td>\n",
       "      <td>63</td>\n",
       "      <td>90</td>\n",
       "      <td>19.46</td>\n",
       "    </tr>\n",
       "    <tr>\n",
       "      <th>13187</th>\n",
       "      <td>gh</td>\n",
       "      <td>kpandae</td>\n",
       "      <td>8.466667</td>\n",
       "      <td>-0.016667</td>\n",
       "      <td>79.05</td>\n",
       "      <td>73</td>\n",
       "      <td>20</td>\n",
       "      <td>7.74</td>\n",
       "    </tr>\n",
       "    <tr>\n",
       "      <th>46495</th>\n",
       "      <td>ws</td>\n",
       "      <td>saleilua</td>\n",
       "      <td>-14.016667</td>\n",
       "      <td>-171.700000</td>\n",
       "      <td></td>\n",
       "      <td></td>\n",
       "      <td></td>\n",
       "      <td></td>\n",
       "    </tr>\n",
       "  </tbody>\n",
       "</table>\n",
       "</div>"
      ],
      "text/plain": [
       "      Country       City   Latitude   Longitude   Temp Humidity Cloudiness  \\\n",
       "26974      ph     alayao  14.281800  122.552400  81.98       98         56   \n",
       "11418      fr    bihorel  49.454685    1.122298  40.17       86         75   \n",
       "45525      us  cleveland  35.159444  -84.876667  26.15       63         90   \n",
       "13187      gh    kpandae   8.466667   -0.016667  79.05       73         20   \n",
       "46495      ws   saleilua -14.016667 -171.700000                              \n",
       "\n",
       "      Wind Speed  \n",
       "26974       2.15  \n",
       "11418       9.17  \n",
       "45525      19.46  \n",
       "13187       7.74  \n",
       "46495             "
      ]
     },
     "execution_count": 9,
     "metadata": {},
     "output_type": "execute_result"
    }
   ],
   "source": [
    "city_list = []\n",
    "for index, row in selected_cities.iterrows():\n",
    "    \n",
    "    try:\n",
    "        weather = (req.get(query_url + row['City'].replace(\" \",\"+\")).json())\n",
    "        selected_cities.set_value(index, \"Temp\", weather[\"main\"][\"temp\"])\n",
    "        selected_cities.set_value(index, \"Humidity\", weather[\"main\"][\"humidity\"])\n",
    "        selected_cities.set_value(index, \"Cloudiness\", weather[\"clouds\"][\"all\"])\n",
    "        selected_cities.set_value(index, \"Wind Speed\", weather[\"wind\"][\"speed\"])\n",
    "        print(\"--\", end=\"\")\n",
    "        city_list.append(row['City'])\n",
    "    except:\n",
    "        print(row['City'])\n",
    "selected_cities.head()"
   ]
  },
  {
   "cell_type": "code",
   "execution_count": 10,
   "metadata": {
    "scrolled": true
   },
   "outputs": [
    {
     "name": "stdout",
     "output_type": "stream",
     "text": [
      "(500, 8)\n",
      "(459, 8)\n"
     ]
    }
   ],
   "source": [
    "print(selected_cities.shape)\n",
    "selected_cities = selected_cities[selected_cities['City'].isin(city_list)]\n",
    "print(selected_cities.shape)"
   ]
  },
  {
   "cell_type": "code",
   "execution_count": 11,
   "metadata": {
    "collapsed": true
   },
   "outputs": [],
   "source": [
    "selected_cities.to_csv('selected_cities.csv')"
   ]
  },
  {
   "cell_type": "code",
   "execution_count": 12,
   "metadata": {},
   "outputs": [
    {
     "data": {
      "text/plain": [
       "<matplotlib.collections.PathCollection at 0x11bf0c390>"
      ]
     },
     "execution_count": 12,
     "metadata": {},
     "output_type": "execute_result"
    }
   ],
   "source": [
    "plt.scatter(selected_cities[\"Latitude\"], selected_cities[\"Temp\"], marker=\"o\")"
   ]
  },
  {
   "cell_type": "code",
   "execution_count": 13,
   "metadata": {
    "collapsed": true
   },
   "outputs": [],
   "source": [
    "plt.title(\"Temperature (F) vs. Latitude (Today)\")\n",
    "plt.ylabel(\"Temperature (Fahrenheit)\")\n",
    "plt.xlabel(\"Latitude\")\n",
    "plt.grid(True)"
   ]
  },
  {
   "cell_type": "code",
   "execution_count": 14,
   "metadata": {
    "collapsed": true
   },
   "outputs": [],
   "source": [
    "plt.savefig(\"Temperature_(F)_vs._Latitude_(Today).png\")"
   ]
  },
  {
   "cell_type": "code",
   "execution_count": 15,
   "metadata": {},
   "outputs": [
    {
     "data": {
      "image/png": "[encoded data removed]",
      "text/plain": [
       "<matplotlib.figure.Figure at 0x11bd8d0f0>"
      ]
     },
     "metadata": {},
     "output_type": "display_data"
    }
   ],
   "source": [
    "plt.show()"
   ]
  },
  {
   "cell_type": "code",
   "execution_count": 16,
   "metadata": {},
   "outputs": [
    {
     "data": {
      "text/plain": [
       "<matplotlib.collections.PathCollection at 0x11c003c50>"
      ]
     },
     "execution_count": 16,
     "metadata": {},
     "output_type": "execute_result"
    }
   ],
   "source": [
    "plt.scatter(selected_cities[\"Latitude\"], selected_cities[\"Humidity\"], marker=\"o\")"
   ]
  },
  {
   "cell_type": "code",
   "execution_count": 17,
   "metadata": {
    "collapsed": true
   },
   "outputs": [],
   "source": [
    "plt.title(\"humidity % vs. Latitude (Today)\")\n",
    "plt.ylabel(\"Humidity %\")\n",
    "plt.xlabel(\"Latitude\")\n",
    "plt.grid(True)"
   ]
  },
  {
   "cell_type": "code",
   "execution_count": 18,
   "metadata": {
    "collapsed": true
   },
   "outputs": [],
   "source": [
    "plt.savefig(\"Humidity_%_vs._Latitude_(Today).png\")"
   ]
  },
  {
   "cell_type": "code",
   "execution_count": 19,
   "metadata": {},
   "outputs": [
    {
     "data": {
      "image/png": "[encoded data removed]",
      "text/plain": [
       "<matplotlib.figure.Figure at 0x11bfa25c0>"
      ]
     },
     "metadata": {},
     "output_type": "display_data"
    }
   ],
   "source": [
    "plt.show()"
   ]
  },
  {
   "cell_type": "code",
   "execution_count": 20,
   "metadata": {},
   "outputs": [
    {
     "data": {
      "text/plain": [
       "<matplotlib.collections.PathCollection at 0x11c2b0c50>"
      ]
     },
     "execution_count": 20,
     "metadata": {},
     "output_type": "execute_result"
    }
   ],
   "source": [
    "plt.scatter(selected_cities[\"Latitude\"], selected_cities[\"Cloudiness\"], marker=\"o\")"
   ]
  },
  {
   "cell_type": "code",
   "execution_count": 21,
   "metadata": {
    "collapsed": true
   },
   "outputs": [],
   "source": [
    "plt.title(\"cloudiness % vs. Latitude (Today)\")\n",
    "plt.ylabel(\"Cloudiness %\")\n",
    "plt.xlabel(\"Latitude\")\n",
    "plt.grid(True)"
   ]
  },
  {
   "cell_type": "code",
   "execution_count": 22,
   "metadata": {
    "collapsed": true
   },
   "outputs": [],
   "source": [
    "plt.savefig(\"Cloudiness_%_vs._Latitude_(Today).png\")"
   ]
  },
  {
   "cell_type": "code",
   "execution_count": 23,
   "metadata": {},
   "outputs": [
    {
     "data": {
      "image/png": "[encoded data removed]",
      "text/plain": [
       "<matplotlib.figure.Figure at 0x11c01e320>"
      ]
     },
     "metadata": {},
     "output_type": "display_data"
    }
   ],
   "source": [
    "plt.show()"
   ]
  },
  {
   "cell_type": "code",
   "execution_count": 24,
   "metadata": {},
   "outputs": [
    {
     "data": {
      "text/plain": [
       "<matplotlib.collections.PathCollection at 0x11c351f98>"
      ]
     },
     "execution_count": 24,
     "metadata": {},
     "output_type": "execute_result"
    }
   ],
   "source": [
    "plt.scatter(selected_cities[\"Latitude\"], selected_cities[\"Wind Speed\"], marker=\"o\")"
   ]
  },
  {
   "cell_type": "code",
   "execution_count": 25,
   "metadata": {
    "collapsed": true
   },
   "outputs": [],
   "source": [
    "plt.title(\"wind speed (mph) vs. Latitude (Today)\")\n",
    "plt.ylabel(\"Wind Speed (mph)\")\n",
    "plt.xlabel(\"Latitude\")\n",
    "plt.grid(True)"
   ]
  },
  {
   "cell_type": "code",
   "execution_count": 26,
   "metadata": {
    "collapsed": true
   },
   "outputs": [],
   "source": [
    "plt.savefig(\"Wind_Speed_(mph)_vs._Latitude_(Today).png\")"
   ]
  },
  {
   "cell_type": "code",
   "execution_count": 27,
   "metadata": {},
   "outputs": [
    {
     "data": {
      "image/png": "[encoded data removed]",
      "text/plain": [
       "<matplotlib.figure.Figure at 0x11c2c6d68>"
      ]
     },
     "metadata": {},
     "output_type": "display_data"
    }
   ],
   "source": [
    "plt.show()"
   ]
  },
  {
   "cell_type": "code",
   "execution_count": null,
   "metadata": {
    "collapsed": true
   },
   "outputs": [],
   "source": []
  },
  {
   "cell_type": "code",
   "execution_count": null,
   "metadata": {
    "collapsed": true
   },
   "outputs": [],
   "source": []
  },
  {
   "cell_type": "code",
   "execution_count": null,
   "metadata": {
    "collapsed": true
   },
   "outputs": [],
   "source": []
  }
 ],
 "metadata": {
  "kernelspec": {
   "display_name": "Python 3",
   "language": "python",
   "name": "python3"
  },
  "language_info": {
   "codemirror_mode": {
    "name": "ipython",
    "version": 3
   },
   "file_extension": ".py",
   "mimetype": "text/x-python",
   "name": "python",
   "nbconvert_exporter": "python",
   "pygments_lexer": "ipython3",
   "version": "3.6.1"
  }
 },
 "nbformat": 4,
 "nbformat_minor": 2
}
